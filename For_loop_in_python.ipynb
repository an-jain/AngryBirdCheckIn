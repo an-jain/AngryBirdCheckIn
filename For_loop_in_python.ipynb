{
  "nbformat": 4,
  "nbformat_minor": 0,
  "metadata": {
    "colab": {
      "provenance": [],
      "collapsed_sections": [],
      "authorship_tag": "ABX9TyM9v7MaAg+ZDVVPVpk0T3Sc",
      "include_colab_link": true
    },
    "kernelspec": {
      "name": "python3",
      "display_name": "Python 3"
    },
    "language_info": {
      "name": "python"
    }
  },
  "cells": [
    {
      "cell_type": "markdown",
      "metadata": {
        "id": "view-in-github",
        "colab_type": "text"
      },
      "source": [
        "<a href=\"https://colab.research.google.com/github/an-jain/AngryBirdCheckIn/blob/main/For_loop_in_python.ipynb\" target=\"_parent\"><img src=\"https://colab.research.google.com/assets/colab-badge.svg\" alt=\"Open In Colab\"/></a>"
      ]
    },
    {
      "cell_type": "code",
      "execution_count": 6,
      "metadata": {
        "id": "5y_8qi5uNUYe"
      },
      "outputs": [],
      "source": [
        "marks=[85,85,85,95,70]\n",
        "count=0\n",
        "num=85\n",
        "\n",
        "for b in marks:\n",
        "   if(num == b):\n",
        "     count=count+1"
      ]
    },
    {
      "cell_type": "code",
      "source": [
        "print(count)"
      ],
      "metadata": {
        "colab": {
          "base_uri": "https://localhost:8080/"
        },
        "id": "GnPOHRQlRn3g",
        "outputId": "3a4803cf-b56f-41ce-db80-51f8c3e4c166"
      },
      "execution_count": 7,
      "outputs": [
        {
          "output_type": "stream",
          "name": "stdout",
          "text": [
            "3\n"
          ]
        }
      ]
    }
  ]
}